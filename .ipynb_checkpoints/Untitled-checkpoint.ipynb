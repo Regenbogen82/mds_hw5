{
 "cells": [
  {
   "cell_type": "code",
   "execution_count": 1,
   "metadata": {},
   "outputs": [],
   "source": [
    "import numpy as np\n",
    "from scipy.optimize import approx_fprime"
   ]
  },
  {
   "cell_type": "markdown",
   "metadata": {},
   "source": [
    "**Задание 1:**\n",
    "    \n",
    "Посчитайте частные производные функций (как обычно, необходимо решение на бумажке или в LaTeX и на numpy):\n",
    "\n",
    "1) $f(x,y)=2x^2y^3 + 1/x + y^2x + 7$, а для этой функции также градиент в точке $(1,2)$\n",
    "\n",
    "2) $f(x,y)=x^2y - sin(xy) + cos(x^2) + 6y$"
   ]
  },
  {
   "cell_type": "code",
   "execution_count": 2,
   "metadata": {},
   "outputs": [],
   "source": [
    "def func(x, y):\n",
    "    return (2 * x**2 * y**3) + 1 / x + y**2 * x + 7\n",
    "\n",
    "def first_diff_x(x, y):\n",
    "    return (2 * 2 * x * y**3) - 1/(x**2) + y**2\n",
    "\n",
    "def first_diff_y(x, y):\n",
    "    return (2 * 3 * y**2 * x**2) + 2 * y * x\n",
    "\n",
    "z = np.array([first_diff_x(1, 2), first_diff_y(1, 2)])"
   ]
  },
  {
   "cell_type": "code",
   "execution_count": 4,
   "metadata": {},
   "outputs": [
    {
     "name": "stdout",
     "output_type": "stream",
     "text": [
      "градиент в точке  (1,2) = [35. 28.]\n"
     ]
    }
   ],
   "source": [
    "print('градиент в точке  (1,2) =', z)"
   ]
  },
  {
   "cell_type": "code",
   "execution_count": 7,
   "metadata": {},
   "outputs": [],
   "source": [
    "def func_2(x, y):\n",
    "    return (x**2 * y) - np.sin(x * y) + np.cos(x**2) + 6 * y\n",
    "\n",
    "def first_diff_x_2(x, y):\n",
    "    return 2 * x * y - y * np.cos(x * y) - 2 * x * np.sin(x**2)\n",
    "\n",
    "def first_diff_y_2(x, y):\n",
    "    return x**2 - x * np.cos(x * y) + 6"
   ]
  },
  {
   "cell_type": "markdown",
   "metadata": {},
   "source": [
    "**Задание 2:**\n",
    "    \n",
    "Градиентный спуск своими руками"
   ]
  },
  {
   "cell_type": "code",
   "execution_count": 20,
   "metadata": {},
   "outputs": [],
   "source": [
    "def f(x):\n",
    "    return (x[0]**2) + (x[1]**2)\n",
    "def dx0(x):\n",
    "    return (2 * x[0])\n",
    "def dx1(x):\n",
    "    return (2 * x[1])"
   ]
  },
  {
   "cell_type": "code",
   "execution_count": 30,
   "metadata": {},
   "outputs": [
    {
     "data": {
      "text/plain": [
       "array([200, 400])"
      ]
     },
     "execution_count": 30,
     "metadata": {},
     "output_type": "execute_result"
    }
   ],
   "source": [
    "x = np.array([100, 200])\n",
    "lr = 0.1\n",
    "grad = np.array([dx0(x), dx1(x)])\n",
    "grad"
   ]
  },
  {
   "cell_type": "code",
   "execution_count": 35,
   "metadata": {},
   "outputs": [],
   "source": [
    "for i in range(100):\n",
    "    # Calculate gradient\n",
    "    grad = np.array([dx0(x), dx1(x)]) # Your code here (функция для вычисления градиента есть в лекционном ноутбуке)\n",
    "    x = x - lr * np.array([dx0(x), dx1(x)])\n",
    "    if grad[0] < 0 or grad[1] < 0:\n",
    "        break\n",
    "   \n",
    "    # Update x with gradient\n",
    "    #x = # Your code here (смотри слайд презентации про градиентный спуск)\n"
   ]
  },
  {
   "cell_type": "code",
   "execution_count": 36,
   "metadata": {},
   "outputs": [
    {
     "name": "stdout",
     "output_type": "stream",
     "text": [
      "Минимум достигается в:  [4.30461986e-37 8.60923973e-37]\n",
      "Значение функции в минимуме:  9.264876087186848e-73\n"
     ]
    }
   ],
   "source": [
    "print(\"Минимум достигается в: \", x)\n",
    "print(\"Значение функции в минимуме: \", f(x))"
   ]
  },
  {
   "cell_type": "code",
   "execution_count": null,
   "metadata": {},
   "outputs": [],
   "source": []
  }
 ],
 "metadata": {
  "kernelspec": {
   "display_name": "Python 3",
   "language": "python",
   "name": "python3"
  },
  "language_info": {
   "codemirror_mode": {
    "name": "ipython",
    "version": 3
   },
   "file_extension": ".py",
   "mimetype": "text/x-python",
   "name": "python",
   "nbconvert_exporter": "python",
   "pygments_lexer": "ipython3",
   "version": "3.7.4"
  }
 },
 "nbformat": 4,
 "nbformat_minor": 2
}
